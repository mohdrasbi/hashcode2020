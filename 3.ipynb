{
 "cells": [
  {
   "cell_type": "markdown",
   "metadata": {},
   "source": [
    "## Read Dataset"
   ]
  },
  {
   "cell_type": "code",
   "execution_count": 1,
   "metadata": {},
   "outputs": [],
   "source": [
    "file_name = \"c_incunabula.txt\"\n",
    "f = open(file_name, 'r')\n",
    "file = f.read().split(\"\\n\")\n",
    "\n",
    "line_0 = file[0].split()\n",
    "num_unique_books = int(line_0[0])\n",
    "num_lib = int(line_0[1])\n",
    "num_days = int(line_0[2])\n",
    "\n",
    "line_1 = file[1].split()\n",
    "books_scores = {k: int(line_1[k]) for k in range(num_unique_books)}\n",
    "\n",
    "#id of books highest score to lowest\n",
    "books_order = list({k: v for k, v in sorted(books_scores.items(), key=lambda item: item[1], reverse=True)}.keys())\n",
    "\n",
    "libs_info = {} #key is library id starting from 0\n",
    "_id = 0\n",
    "for i in range(2, (num_lib * 2) + 2, 2):\n",
    "    libs_info[_id] = {}\n",
    "    line_0 = file[i].split()\n",
    "    line_1 = file[i+1].split()\n",
    "    libs_info[_id][\"num_books\"] = int(line_0[0])\n",
    "    libs_info[_id][\"signup_period\"] = int(line_0[1])\n",
    "    libs_info[_id][\"books_shipped_per_day\"] = int(line_0[2])\n",
    "    libs_info[_id][\"books_ids\"] = list(map(lambda x: int(x), line_1))\n",
    "    libs_info[_id][\"books_ids\"] = [x for x in books_order if x in libs_info[_id][\"books_ids\"]]\n",
    "    \n",
    "    _id += 1"
   ]
  },
  {
   "cell_type": "code",
   "execution_count": 29,
   "metadata": {},
   "outputs": [],
   "source": [
    "libs_info = {} #key is library id starting from 0\n",
    "_id = 0\n",
    "for i in range(2, (num_lib * 2) + 2, 2):\n",
    "    libs_info[_id] = {}\n",
    "    line_0 = file[i].split()\n",
    "    line_1 = file[i+1].split()\n",
    "    libs_info[_id][\"num_books\"] = int(line_0[0])\n",
    "    libs_info[_id][\"signup_period\"] = int(line_0[1])\n",
    "    libs_info[_id][\"books_shipped_per_day\"] = int(line_0[2])\n",
    "    libs_info[_id][\"books_ids\"] = list(map(lambda x: int(x), line_1))\n",
    "    libs_info[_id][\"books_ids\"] = [x for x in books_order if x in libs_info[_id][\"books_ids\"]]\n",
    "    \n",
    "    _id += 1"
   ]
  },
  {
   "cell_type": "code",
   "execution_count": 30,
   "metadata": {},
   "outputs": [],
   "source": [
    "libs_info_bak = libs_info"
   ]
  },
  {
   "cell_type": "markdown",
   "metadata": {},
   "source": [
    "## Functions"
   ]
  },
  {
   "cell_type": "code",
   "execution_count": 31,
   "metadata": {},
   "outputs": [],
   "source": [
    "for lib in libs_info:\n",
    "    score = 0\n",
    "    for book in libs_info[lib][\"books_ids\"]:\n",
    "        score += books_scores[book]\n",
    "    libs_info[lib][\"score\"] = score"
   ]
  },
  {
   "cell_type": "code",
   "execution_count": 85,
   "metadata": {},
   "outputs": [],
   "source": [
    "for lib in libs_info:\n",
    "    score = 0\n",
    "    for book in libs_info[lib][\"books_ids\"]:\n",
    "        score += books_scores[book]\n",
    "    \n",
    "#     libs_info[lib][\"z\"] = libs_info[lib][\"books_shipped_per_day\"] * libs_info[lib][\"num_books\"] / libs_info[lib][\"signup_period\"]\n",
    "#     libs_info[lib][\"z\"] = libs_info[lib][\"num_books\"] / libs_info[lib][\"books_shipped_per_day\"] \n",
    "    libs_info[lib][\"z\"] = libs_info[lib][\"signup_period\"] + abs(libs_info[lib][\"num_books\"] / libs_info[lib][\"books_shipped_per_day\"] - num_days)\n",
    "    "
   ]
  },
  {
   "cell_type": "markdown",
   "metadata": {},
   "source": [
    "## Solution"
   ]
  },
  {
   "cell_type": "code",
   "execution_count": 86,
   "metadata": {},
   "outputs": [],
   "source": [
    "libs_sorted_by_signup_period = [(k, libs_info[k]['signup_period']) for k in libs_info.keys()]\n",
    "libs_sorted_by_signup_period = sorted(libs_sorted_by_signup_period, key=lambda x: x[1])"
   ]
  },
  {
   "cell_type": "code",
   "execution_count": 87,
   "metadata": {},
   "outputs": [],
   "source": [
    "libs_sorted_by_books_per_day = [(k, libs_info[k]['books_shipped_per_day']) for k in libs_info.keys()]\n",
    "libs_sorted_by_books_per_day = sorted(libs_sorted_by_books_per_day, key=lambda x: x[1], reverse=True)"
   ]
  },
  {
   "cell_type": "code",
   "execution_count": 88,
   "metadata": {},
   "outputs": [],
   "source": [
    "libs_sorted_by_books_score = [(k, libs_info[k]['score']) for k in libs_info.keys()]\n",
    "libs_sorted_by_books_score = sorted(libs_sorted_by_books_score, key=lambda x: x[1], reverse=True)"
   ]
  },
  {
   "cell_type": "code",
   "execution_count": 90,
   "metadata": {},
   "outputs": [],
   "source": [
    "libs_sorted_by_z = [(k, libs_info[k]['z']) for k in libs_info.keys()]\n",
    "libs_sorted_by_z = sorted(libs_sorted_by_z, key=lambda x: x[1])"
   ]
  },
  {
   "cell_type": "code",
   "execution_count": 91,
   "metadata": {},
   "outputs": [],
   "source": [
    "num_days_left = num_days\n",
    "books_left_to_scan = [i for i in range(num_unique_books)]\n",
    "solution = []\n",
    "\n",
    "for lib in libs_sorted_by_z:\n",
    "    lib_id = lib[0]\n",
    "    num_days_left -= libs_info[lib_id][\"signup_period\"]\n",
    "    if num_days_left <= 0 or len(books_left_to_scan) < 0:\n",
    "        break\n",
    "        \n",
    "    books_to_scan = [x for x in libs_info[lib_id][\"books_ids\"] if x in books_left_to_scan]\n",
    "    books_to_scan = books_to_scan[:num_days_left*libs_info[lib_id][\"books_shipped_per_day\"]]\n",
    "    \n",
    "    books_left_to_scan = [x for x in books_left_to_scan if x not in libs_info[lib_id][\"books_ids\"]]\n",
    "    \n",
    "    solution.append((lib_id, books_to_scan))"
   ]
  },
  {
   "cell_type": "code",
   "execution_count": 92,
   "metadata": {},
   "outputs": [],
   "source": [
    "output_name = file_name[:-4] + \"_sol.txt\"\n",
    "with open(output_name, \"w\") as f:\n",
    "    f.write(\"{}\\n\".format(len(solution)))\n",
    "    for s in solution: \n",
    "        if(len(s[1]) > 0):\n",
    "            f.write(\"{} {}\\n\".format(s[0], len(s[1])))\n",
    "            f.write(\"{}\\n\".format(\" \".join(str(x) for x in s[1])))\n",
    "        \n",
    "        \n",
    "    f.close()\n"
   ]
  },
  {
   "cell_type": "markdown",
   "metadata": {},
   "source": [
    "## Calculate score"
   ]
  },
  {
   "cell_type": "code",
   "execution_count": 93,
   "metadata": {
    "scrolled": true
   },
   "outputs": [
    {
     "data": {
      "text/plain": [
       "5467966"
      ]
     },
     "execution_count": 93,
     "metadata": {},
     "output_type": "execute_result"
    }
   ],
   "source": [
    "score = 0\n",
    "for s in solution:\n",
    "    for i in s[1]:\n",
    "        score += books_scores[i]\n",
    "        \n",
    "score"
   ]
  },
  {
   "cell_type": "code",
   "execution_count": null,
   "metadata": {},
   "outputs": [],
   "source": []
  }
 ],
 "metadata": {
  "kernelspec": {
   "display_name": "Python 3",
   "language": "python",
   "name": "python3"
  },
  "language_info": {
   "codemirror_mode": {
    "name": "ipython",
    "version": 3
   },
   "file_extension": ".py",
   "mimetype": "text/x-python",
   "name": "python",
   "nbconvert_exporter": "python",
   "pygments_lexer": "ipython3",
   "version": "3.7.3"
  }
 },
 "nbformat": 4,
 "nbformat_minor": 4
}
